{
 "cells": [
  {
   "cell_type": "code",
   "execution_count": 1,
   "metadata": {
    "colab": {
     "base_uri": "https://localhost:8080/"
    },
    "executionInfo": {
     "elapsed": 64,
     "status": "ok",
     "timestamp": 1743232898415,
     "user": {
      "displayName": "HEMALATHA DUPPY",
      "userId": "11989356547138753874"
     },
     "user_tz": -330
    },
    "id": "HO5zk8UfxpJV",
    "outputId": "3de7d5e2-4339-46aa-e89a-18af5a44e2d7"
   },
   "outputs": [
    {
     "name": "stdout",
     "output_type": "stream",
     "text": [
      "2\n",
      "(1, 2)\n",
      "(5, (7, 5, (1, 2)), 5, 4, 5, (7, 5, (1, 2)), 5, 4, 5, (7, 5, (1, 2)), 5, 4)\n",
      "4\n",
      "(5, (7, 5, (1, 2)), 5, 4, 7, 8, (4, 5))\n"
     ]
    }
   ],
   "source": [
    "#Q11\n",
    "a = (5,(7,5,(1,2)),5,4)\n",
    "print(a.count(5))\n",
    "print(a[1][2])\n",
    "print(a * 3)\n",
    "print(len(a))\n",
    "b = (7,8,(4,5))\n",
    "print(a + b)"
   ]
  },
  {
   "cell_type": "code",
   "execution_count": 4,
   "metadata": {
    "colab": {
     "base_uri": "https://localhost:8080/"
    },
    "executionInfo": {
     "elapsed": 25,
     "status": "ok",
     "timestamp": 1743232931813,
     "user": {
      "displayName": "HEMALATHA DUPPY",
      "userId": "11989356547138753874"
     },
     "user_tz": -330
    },
    "id": "0zjR1gENxu8l",
    "outputId": "92230a23-5233-43a8-9422-5343b924042e"
   },
   "outputs": [
    {
     "name": "stdout",
     "output_type": "stream",
     "text": [
      "21\n"
     ]
    }
   ],
   "source": [
    "#Q12\n",
    "x = [3, 6, 9, 12, 15]\n",
    "y = x[::-1]\n",
    "print(y[1] + x[-3])"
   ]
  },
  {
   "cell_type": "code",
   "execution_count": 5,
   "metadata": {
    "colab": {
     "base_uri": "https://localhost:8080/"
    },
    "executionInfo": {
     "elapsed": 21,
     "status": "ok",
     "timestamp": 1743232944985,
     "user": {
      "displayName": "HEMALATHA DUPPY",
      "userId": "11989356547138753874"
     },
     "user_tz": -330
    },
    "id": "gcT6ZD3Mx5Z0",
    "outputId": "dc7aeaea-14fc-49a0-e256-160f6e4ddce9"
   },
   "outputs": [
    {
     "name": "stdout",
     "output_type": "stream",
     "text": [
      "Wharet\n"
     ]
    }
   ],
   "source": [
    "#Q13\n",
    "word = \"Whatever\"\n",
    "print(word[:3] + word[-1] + word[4:2:-1])\n"
   ]
  },
  {
   "cell_type": "code",
   "execution_count": 7,
   "metadata": {
    "colab": {
     "base_uri": "https://localhost:8080/"
    },
    "executionInfo": {
     "elapsed": 24,
     "status": "ok",
     "timestamp": 1743232964932,
     "user": {
      "displayName": "HEMALATHA DUPPY",
      "userId": "11989356547138753874"
     },
     "user_tz": -330
    },
    "id": "wqmYiThEx8n5",
    "outputId": "c655442b-e188-4756-857d-e26683bc3f7a"
   },
   "outputs": [
    {
     "name": "stdout",
     "output_type": "stream",
     "text": [
      "78\n"
     ]
    }
   ],
   "source": [
    "#Q14\n",
    "nums = {3, 6, 9, 12}\n",
    "nums.add(15)\n",
    "nums.remove(6)\n",
    "nums.update([18, 21])\n",
    "nums.discard(99)\n",
    "print(sum(nums))"
   ]
  },
  {
   "cell_type": "code",
   "execution_count": 8,
   "metadata": {
    "colab": {
     "base_uri": "https://localhost:8080/"
    },
    "executionInfo": {
     "elapsed": 56,
     "status": "ok",
     "timestamp": 1743232978354,
     "user": {
      "displayName": "HEMALATHA DUPPY",
      "userId": "11989356547138753874"
     },
     "user_tz": -330
    },
    "id": "PvoOgF8MyBff",
    "outputId": "e27973bc-51cd-40f7-9e17-dca27b7fb061"
   },
   "outputs": [
    {
     "name": "stdout",
     "output_type": "stream",
     "text": [
      "dict_keys(['name', 'age', 'state', 'country'])\n",
      "Kerala\n"
     ]
    }
   ],
   "source": [
    "#Q15\n",
    "info = {\"name\": \"Sara\", \"age\": 18, \"state\": \"Kerala\"}\n",
    "info[\"age\"] += 4\n",
    "info[\"country\"] = \"India\"\n",
    "print(info.keys())\n",
    "print(info.get(\"state\", \"Unknown\"))"
   ]
  },
  {
   "cell_type": "code",
   "execution_count": 9,
   "metadata": {
    "colab": {
     "base_uri": "https://localhost:8080/"
    },
    "executionInfo": {
     "elapsed": 58,
     "status": "ok",
     "timestamp": 1743232990334,
     "user": {
      "displayName": "HEMALATHA DUPPY",
      "userId": "11989356547138753874"
     },
     "user_tz": -330
    },
    "id": "PWlc8rh9yEww",
    "outputId": "5ceabbfa-488c-45e3-b66d-e2ed92a59208"
   },
   "outputs": [
    {
     "name": "stdout",
     "output_type": "stream",
     "text": [
      "[2, 1, 0, 2, 1]\n"
     ]
    }
   ],
   "source": [
    "#Q16\n",
    "num_list = [5, 10, 15, 20, 25]\n",
    "res = list(map(lambda x: x % 3, num_list))\n",
    "print(res)"
   ]
  },
  {
   "cell_type": "code",
   "execution_count": 11,
   "metadata": {
    "colab": {
     "base_uri": "https://localhost:8080/"
    },
    "executionInfo": {
     "elapsed": 33,
     "status": "ok",
     "timestamp": 1743233003578,
     "user": {
      "displayName": "HEMALATHA DUPPY",
      "userId": "11989356547138753874"
     },
     "user_tz": -330
    },
    "id": "JF31lwQVyHr6",
    "outputId": "ef4d1315-1ebf-406c-8397-b7166a6d4fe3"
   },
   "outputs": [
    {
     "name": "stdout",
     "output_type": "stream",
     "text": [
      "5\n"
     ]
    }
   ],
   "source": [
    "#Q17\n",
    "ages = [15, 22, 18, 30, 12, 40, 90]\n",
    "adults = list(filter(lambda x: x >= 18, ages))\n",
    "print(len(adults))"
   ]
  },
  {
   "cell_type": "code",
   "execution_count": 12,
   "metadata": {
    "colab": {
     "base_uri": "https://localhost:8080/"
    },
    "executionInfo": {
     "elapsed": 46,
     "status": "ok",
     "timestamp": 1743233017347,
     "user": {
      "displayName": "HEMALATHA DUPPY",
      "userId": "11989356547138753874"
     },
     "user_tz": -330
    },
    "id": "PSq_PvxXyK7G",
    "outputId": "ef4eaa78-2280-44ab-9fb0-2bfc5a5e2202"
   },
   "outputs": [
    {
     "name": "stdout",
     "output_type": "stream",
     "text": [
      "120\n"
     ]
    }
   ],
   "source": [
    "#Q18\n",
    "from functools import reduce\n",
    "nums = [1, 2, 3, 4, 5]\n",
    "result = reduce(lambda x, y: x * y, nums)\n",
    "print(result)"
   ]
  },
  {
   "cell_type": "code",
   "execution_count": 13,
   "metadata": {
    "colab": {
     "base_uri": "https://localhost:8080/"
    },
    "executionInfo": {
     "elapsed": 35,
     "status": "ok",
     "timestamp": 1743233037551,
     "user": {
      "displayName": "HEMALATHA DUPPY",
      "userId": "11989356547138753874"
     },
     "user_tz": -330
    },
    "id": "mV-zu_R0yOSM",
    "outputId": "e0fab58e-5db2-4dc4-f925-098503d4eb44"
   },
   "outputs": [
    {
     "name": "stdout",
     "output_type": "stream",
     "text": [
      "cd\n",
      "['a', 'b', 'd']\n"
     ]
    }
   ],
   "source": [
    "#Q19\n",
    "alpha = [\"a\", \"b\", \"c\", \"d\"]\n",
    "print(alpha.pop(2) + alpha[-1])\n",
    "print(alpha)"
   ]
  },
  {
   "cell_type": "code",
   "execution_count": 14,
   "metadata": {
    "colab": {
     "base_uri": "https://localhost:8080/"
    },
    "executionInfo": {
     "elapsed": 69,
     "status": "ok",
     "timestamp": 1743233052130,
     "user": {
      "displayName": "HEMALATHA DUPPY",
      "userId": "11989356547138753874"
     },
     "user_tz": -330
    },
    "id": "jMP6o79JyTN4",
    "outputId": "5e8d7325-0827-4d87-e678-d3a19f43ed5e"
   },
   "outputs": [
    {
     "name": "stdout",
     "output_type": "stream",
     "text": [
      "1 3\n"
     ]
    }
   ],
   "source": [
    "#Q20\n",
    "x = 10\n",
    "y = 3\n",
    "x, y = x % y, x // y\n",
    "print(x, y)"
   ]
  },
  {
   "cell_type": "code",
   "execution_count": null,
   "metadata": {
    "id": "TAi774QZyWxR"
   },
   "outputs": [],
   "source": []
  }
 ],
 "metadata": {
  "colab": {
   "authorship_tag": "ABX9TyNBVImlEYhnkGOoybHlCDKy",
   "provenance": []
  },
  "kernelspec": {
   "display_name": "Python 3",
   "name": "python3"
  },
  "language_info": {
   "name": "python"
  }
 },
 "nbformat": 4,
 "nbformat_minor": 0
}
