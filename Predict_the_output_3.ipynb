{
  "nbformat": 4,
  "nbformat_minor": 0,
  "metadata": {
    "colab": {
      "provenance": [],
      "authorship_tag": "ABX9TyOTrSmYuV049R8kmlMZd8uX",
      "include_colab_link": true
    },
    "kernelspec": {
      "name": "python3",
      "display_name": "Python 3"
    },
    "language_info": {
      "name": "python"
    }
  },
  "cells": [
    {
      "cell_type": "markdown",
      "metadata": {
        "id": "view-in-github",
        "colab_type": "text"
      },
      "source": [
        "<a href=\"https://colab.research.google.com/github/HemalathaDuppy/Predict_the_outputs/blob/main/Predict_the_output_3.ipynb\" target=\"_parent\"><img src=\"https://colab.research.google.com/assets/colab-badge.svg\" alt=\"Open In Colab\"/></a>"
      ]
    },
    {
      "cell_type": "code",
      "execution_count": 2,
      "metadata": {
        "colab": {
          "base_uri": "https://localhost:8080/"
        },
        "id": "6wMPKcfu2JAw",
        "outputId": "a9327161-d628-40c0-afb6-ae8cbf8915a8"
      },
      "outputs": [
        {
          "output_type": "stream",
          "name": "stdout",
          "text": [
            "15 25 -5\n"
          ]
        }
      ],
      "source": [
        "#1.\n",
        "a=10\n",
        "b=20\n",
        "c=-5\n",
        "a,b,a=a+c,b-c,b+c\n",
        "print(a,b,c)"
      ]
    },
    {
      "cell_type": "code",
      "source": [
        "#2.\n",
        "s=\"ComputerScience\"\n",
        "print(s[2]+s[-4]+s[1:-7])"
      ],
      "metadata": {
        "colab": {
          "base_uri": "https://localhost:8080/"
        },
        "id": "wQ5XD3CS2YnS",
        "outputId": "e2c13709-ef5e-4338-c4d7-66b43d7b071d"
      },
      "execution_count": 3,
      "outputs": [
        {
          "output_type": "stream",
          "name": "stdout",
          "text": [
            "meomputer\n"
          ]
        }
      ]
    },
    {
      "cell_type": "code",
      "source": [
        "#3.\n",
        "import random\n",
        "VAL=[10,20,30,40,50,60,70,80]\n",
        "START=random.randint(1,3)\n",
        "STOP=random.randint(START,4)\n",
        "for x in range(START,STOP+1):\n",
        "  print(VAL[x],end=\"#\")"
      ],
      "metadata": {
        "colab": {
          "base_uri": "https://localhost:8080/"
        },
        "id": "YngAfoKp2r_R",
        "outputId": "631bfac0-2340-47f3-a8ab-0b3cb3b3eca8"
      },
      "execution_count": 6,
      "outputs": [
        {
          "output_type": "stream",
          "name": "stdout",
          "text": [
            "30#40#50#"
          ]
        }
      ]
    },
    {
      "cell_type": "code",
      "source": [
        "#4.\n",
        "def changelist(x,y):\n",
        "  x[0]=25\n",
        "  y=[2,3]\n",
        "\n",
        "l1=[-11,21]\n",
        "l2=[14,23]\n",
        "changelist(l1,l2)\n",
        "print(l1[0],\"#\",l2[0])"
      ],
      "metadata": {
        "colab": {
          "base_uri": "https://localhost:8080/"
        },
        "id": "ry1DWrWa3J45",
        "outputId": "8e2fbea2-001f-4434-a58f-f9e66708a037"
      },
      "execution_count": 8,
      "outputs": [
        {
          "output_type": "stream",
          "name": "stdout",
          "text": [
            "25 # 14\n"
          ]
        }
      ]
    },
    {
      "cell_type": "code",
      "source": [
        "#5.\n",
        "l1=[10,20,30,40,50]\n",
        "START=1\n",
        "s=0\n",
        "for c in range(START,4):\n",
        "  s=s+l1[c]\n",
        "  print(c,\":\")\n",
        "s=s+l1[0]*10\n",
        "print(s)"
      ],
      "metadata": {
        "colab": {
          "base_uri": "https://localhost:8080/"
        },
        "id": "Q6arfiVK3jqX",
        "outputId": "8d4697e9-2d17-4765-c6b4-b50b7ce3f151"
      },
      "execution_count": 11,
      "outputs": [
        {
          "output_type": "stream",
          "name": "stdout",
          "text": [
            "1 :\n",
            "2 :\n",
            "3 :\n",
            "190\n"
          ]
        }
      ]
    },
    {
      "cell_type": "code",
      "source": [
        "#6.\n",
        "mystr=\"SIMPLEQUESTIONS\"\n",
        "print(mystr.count('E',2,12))\n",
        "print(mystr.count('PL',2,12))"
      ],
      "metadata": {
        "colab": {
          "base_uri": "https://localhost:8080/"
        },
        "id": "bkkfqQVl38iW",
        "outputId": "fe1d6641-22b1-4cc2-ca1c-45f21efeb6c3"
      },
      "execution_count": 12,
      "outputs": [
        {
          "output_type": "stream",
          "name": "stdout",
          "text": [
            "2\n",
            "1\n"
          ]
        }
      ]
    },
    {
      "cell_type": "code",
      "source": [
        "#7.\n",
        "d={'A':'ARUN','GRADE':'A'}\n",
        "print(list(d.values()))"
      ],
      "metadata": {
        "colab": {
          "base_uri": "https://localhost:8080/"
        },
        "id": "0jWT9j1-4Tra",
        "outputId": "3b30ca2f-6cce-467d-c7ea-c61dda8aaee6"
      },
      "execution_count": 13,
      "outputs": [
        {
          "output_type": "stream",
          "name": "stdout",
          "text": [
            "['ARUN', 'A']\n"
          ]
        }
      ]
    },
    {
      "cell_type": "code",
      "source": [
        "#8.\n",
        "x=25\n",
        "def modify(s,c=2):\n",
        "  global x\n",
        "  for a in s:\n",
        "    if a in 'QWEiop':\n",
        "      x//=5\n",
        "      print(a.upper(),'@',c*x)\n",
        "    else:\n",
        "      x+=5\n",
        "      print(a.lower(),'#',c+x)\n",
        "\n",
        "strA=\"Sara\"\n",
        "modify(strA,10)\n",
        "print(x,'$',strA)\n",
        "strB=\"WE\"\n",
        "modify(strB)\n",
        "print(x,'$',strB)"
      ],
      "metadata": {
        "colab": {
          "base_uri": "https://localhost:8080/"
        },
        "id": "3KnvrSeK4ilM",
        "outputId": "80e14ee0-1224-4e10-8a4f-76aeeb509241"
      },
      "execution_count": 15,
      "outputs": [
        {
          "output_type": "stream",
          "name": "stdout",
          "text": [
            "s # 40\n",
            "a # 45\n",
            "r # 50\n",
            "a # 55\n",
            "45 $ Sara\n",
            "W @ 18\n",
            "E @ 2\n",
            "1 $ WE\n"
          ]
        }
      ]
    },
    {
      "cell_type": "code",
      "source": [
        "#9.\n",
        "print(5-2**2**2+99//11)"
      ],
      "metadata": {
        "colab": {
          "base_uri": "https://localhost:8080/"
        },
        "id": "s80IqIcG5Aps",
        "outputId": "68931429-454c-4380-aac6-daa146076271"
      },
      "execution_count": 16,
      "outputs": [
        {
          "output_type": "stream",
          "name": "stdout",
          "text": [
            "-2\n"
          ]
        }
      ]
    },
    {
      "cell_type": "code",
      "source": [
        "#10.\n",
        "for i in \"BVRIT Hyderabad\":\n",
        "  print(i.lower(),end=\"#\")"
      ],
      "metadata": {
        "colab": {
          "base_uri": "https://localhost:8080/"
        },
        "id": "I6tjSCUj5bZl",
        "outputId": "cfe3a9b9-0444-42ab-ab47-46f7c754c73d"
      },
      "execution_count": 17,
      "outputs": [
        {
          "output_type": "stream",
          "name": "stdout",
          "text": [
            "b#v#r#i#t# #h#y#d#e#r#a#b#a#d#"
          ]
        }
      ]
    },
    {
      "cell_type": "code",
      "source": [
        "#11.\n",
        "import random\n",
        "A=[20,30,40,50,60,70]\n",
        "FROM=random.randint(1,3)\n",
        "TO=random.randint(2,4)\n",
        "for k in range(FROM,TO):\n",
        "  print(A[k],end=\"#\")"
      ],
      "metadata": {
        "colab": {
          "base_uri": "https://localhost:8080/"
        },
        "id": "3GOmmIOi5lhR",
        "outputId": "45d78829-f3b3-489c-ab2b-1ac88c532116"
      },
      "execution_count": 18,
      "outputs": [
        {
          "output_type": "stream",
          "name": "stdout",
          "text": [
            "50#"
          ]
        }
      ]
    },
    {
      "cell_type": "code",
      "source": [
        "#12.\n",
        "import math\n",
        "import random\n",
        "print(str(int(math.pow(random.randint(2,4),2))))\n",
        "print(str(int(math.pow(random.randint(2,4),2))))\n",
        "print(str(int(math.pow(random.randint(2,4),2))))"
      ],
      "metadata": {
        "colab": {
          "base_uri": "https://localhost:8080/"
        },
        "id": "qzTiL_Fz6HCy",
        "outputId": "cca449f1-a531-4a34-e8a0-ce9301dc3413"
      },
      "execution_count": 22,
      "outputs": [
        {
          "output_type": "stream",
          "name": "stdout",
          "text": [
            "9\n",
            "16\n",
            "9\n"
          ]
        }
      ]
    },
    {
      "cell_type": "code",
      "source": [
        "#13.\n",
        "import random as r\n",
        "print(10+r.randint(10,15),end=\" \")"
      ],
      "metadata": {
        "colab": {
          "base_uri": "https://localhost:8080/"
        },
        "id": "jJv59CcM6eHI",
        "outputId": "0c3d2b4a-77d1-44a0-bc25-f9dd7f981fcd"
      },
      "execution_count": 23,
      "outputs": [
        {
          "output_type": "stream",
          "name": "stdout",
          "text": [
            "23 "
          ]
        }
      ]
    },
    {
      "cell_type": "code",
      "source": [
        "#14.\n",
        "import random as r\n",
        "print(100+r.randint(15,25),end=\" \")\n",
        "print(100-r.randint(15,25),end=\" \")\n",
        "print(100*r.randint(15,25),end=\" \")"
      ],
      "metadata": {
        "colab": {
          "base_uri": "https://localhost:8080/"
        },
        "id": "hE9qMDIP7DA9",
        "outputId": "e92362f3-9888-459c-b47e-d84dfb08a614"
      },
      "execution_count": 24,
      "outputs": [
        {
          "output_type": "stream",
          "name": "stdout",
          "text": [
            "117 80 2500 "
          ]
        }
      ]
    },
    {
      "cell_type": "code",
      "source": [],
      "metadata": {
        "id": "uX39GnHr7V1p"
      },
      "execution_count": null,
      "outputs": []
    }
  ]
}